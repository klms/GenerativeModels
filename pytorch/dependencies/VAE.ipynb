{
 "cells": [
  {
   "cell_type": "code",
   "execution_count": 1,
   "metadata": {
    "collapsed": true
   },
   "outputs": [],
   "source": [
    "import numpy as np\n",
    "import os, sys\n",
    "import random"
   ]
  },
  {
   "cell_type": "code",
   "execution_count": 2,
   "metadata": {
    "collapsed": true
   },
   "outputs": [],
   "source": [
    "sys.path.append('dependencies/')\n",
    "import Loss\n",
    "import Model\n",
    "import Sampling\n",
    "import Trainer"
   ]
  },
  {
   "cell_type": "code",
   "execution_count": 3,
   "metadata": {
    "collapsed": true
   },
   "outputs": [],
   "source": [
    "import torch\n",
    "import torch.nn as nn\n",
    "import torch.nn.functional as F\n",
    "import torch.nn.init as init\n",
    "import torch.optim as optim\n",
    "from torch.autograd import Variable\n",
    "from torch.utils.data import DataLoader\n",
    "from torchvision import datasets, transforms"
   ]
  },
  {
   "cell_type": "code",
   "execution_count": 4,
   "metadata": {
    "collapsed": true
   },
   "outputs": [],
   "source": [
    "cuda = torch.cuda.is_available()\n",
    "h_dims = [200]\n",
    "z_dim = 32"
   ]
  },
  {
   "cell_type": "code",
   "execution_count": 5,
   "metadata": {
    "collapsed": true
   },
   "outputs": [],
   "source": [
    "flatten_bernoulli = lambda img: transforms.ToTensor()(img).view(-1).bernoulli()\n",
    "mnist = datasets.MNIST('../data/', train=True, transform=flatten_bernoulli, download=True)\n",
    "mnist_val = datasets.MNIST('../data/', train=False, transform=flatten_bernoulli, download=True)\n",
    "\n",
    "unlabelled = torch.utils.data.DataLoader(mnist, batch_size=100, shuffle=True, num_workers=2)\n",
    "validation = torch.utils.data.DataLoader(mnist_val, batch_size=100, shuffle=True, num_workers=2)"
   ]
  },
  {
   "cell_type": "code",
   "execution_count": 6,
   "metadata": {
    "collapsed": true
   },
   "outputs": [],
   "source": [
    "vae = Model.VAE([28*28, h_dims, z_dim]).cuda()\n",
    "if cuda: vae = vae.cuda()"
   ]
  },
  {
   "cell_type": "code",
   "execution_count": 7,
   "metadata": {
    "collapsed": true
   },
   "outputs": [],
   "source": [
    "objective = Loss.VariationalInference(Loss.binary_cross_entropy, Loss.KL_divergence_normal)\n",
    "opt = torch.optim.Adam(vae.parameters(), lr = 1e-5)"
   ]
  },
  {
   "cell_type": "code",
   "execution_count": 8,
   "metadata": {},
   "outputs": [
    {
     "name": "stdout",
     "output_type": "stream",
     "text": [
      "Epoch: 10, loss:147.240\n",
      "Epoch: 20, loss:123.000\n",
      "Epoch: 30, loss:97.601\n",
      "Epoch: 40, loss:89.882\n",
      "Epoch: 50, loss:89.191\n",
      "Epoch: 60, loss:84.881\n",
      "Epoch: 70, loss:83.219\n",
      "Epoch: 80, loss:70.545\n",
      "Epoch: 90, loss:73.234\n",
      "Epoch: 100, loss:73.861\n"
     ]
    }
   ],
   "source": [
    "trainer = Trainer.VAE_trainer(vae, objective, opt, cuda)\n",
    "trainer.train(None, unlabelled, 100+1)"
   ]
  },
  {
   "cell_type": "markdown",
   "metadata": {},
   "source": [
    "### Plotting reconstruction"
   ]
  },
  {
   "cell_type": "code",
   "execution_count": null,
   "metadata": {
    "collapsed": true
   },
   "outputs": [],
   "source": [
    "# from Plotutils import latent_imshow\n",
    "# %matplotlib inline\n",
    "# latent_imshow(-10, 10, 25, vae)"
   ]
  },
  {
   "cell_type": "markdown",
   "metadata": {},
   "source": [
    "### Classification"
   ]
  },
  {
   "cell_type": "code",
   "execution_count": 9,
   "metadata": {
    "collapsed": true
   },
   "outputs": [],
   "source": [
    "classifier = Model.Classifier([32,[32],10], dataset='mnist')"
   ]
  },
  {
   "cell_type": "code",
   "execution_count": 10,
   "metadata": {},
   "outputs": [
    {
     "name": "stdout",
     "output_type": "stream",
     "text": [
      "Epoch: 10 loss: 1.517, accuracy: 0.943\n",
      "Epoch: 20 loss: 1.509, accuracy: 0.955\n",
      "Epoch: 30 loss: 1.515, accuracy: 0.952\n",
      "Epoch: 40 loss: 1.497, accuracy: 0.954\n",
      "Epoch: 50 loss: 1.527, accuracy: 0.959\n"
     ]
    }
   ],
   "source": [
    "classifier_trainer = Trainer.Classifier_trainer(vae, classifier, cuda)\n",
    "classifier_trainer.train(unlabelled, validation, 50+1)"
   ]
  },
  {
   "cell_type": "code",
   "execution_count": null,
   "metadata": {
    "collapsed": true
   },
   "outputs": [],
   "source": []
  }
 ],
 "metadata": {
  "kernelspec": {
   "display_name": "Python 3",
   "language": "python",
   "name": "python3"
  },
  "language_info": {
   "codemirror_mode": {
    "name": "ipython",
    "version": 3
   },
   "file_extension": ".py",
   "mimetype": "text/x-python",
   "name": "python",
   "nbconvert_exporter": "python",
   "pygments_lexer": "ipython3",
   "version": "3.6.3"
  }
 },
 "nbformat": 4,
 "nbformat_minor": 2
}
