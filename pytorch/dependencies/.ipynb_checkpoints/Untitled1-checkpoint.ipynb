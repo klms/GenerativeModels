{
 "cells": [
  {
   "cell_type": "code",
   "execution_count": 1,
   "metadata": {
    "collapsed": true
   },
   "outputs": [],
   "source": [
    "import numpy as np\n",
    "import os, sys, time"
   ]
  },
  {
   "cell_type": "code",
   "execution_count": 2,
   "metadata": {
    "collapsed": true
   },
   "outputs": [],
   "source": [
    "import torch\n",
    "import torch.nn as nn\n",
    "import torch.nn.functional as F\n",
    "import torch.nn.init as init\n",
    "import torch.optim as optim\n",
    "from torch.autograd import Variable\n",
    "from torch.utils.data import DataLoader\n",
    "from torchvision import datasets, transforms\n",
    "from Sampling import Gaussian_sample"
   ]
  },
  {
   "cell_type": "code",
   "execution_count": 3,
   "metadata": {
    "collapsed": true
   },
   "outputs": [],
   "source": [
    "cuda = torch.cuda.is_available()\n",
    "h_dims = [200, 100]\n",
    "z_dim = 32"
   ]
  },
  {
   "cell_type": "code",
   "execution_count": 4,
   "metadata": {
    "collapsed": true
   },
   "outputs": [],
   "source": [
    "class Encoder(nn.Module):\n",
    "    def __init__(self, dims, dataset='mnist'):\n",
    "        super(Encoder, self).__init__()\n",
    "        [x_dim, h_dim, z_dim] = dims\n",
    "        neurons = [x_dim, *h_dim]\n",
    "        linear_layers = [nn.Linear(neurons[i-1], neurons[i]) for i in range(1, len(neurons))]\n",
    "        self.h= nn.ModuleList(modules=linear_layers)\n",
    "        self.sample = Gaussian_sample(h_dim[-1], z_dim)\n",
    "    \n",
    "    def forward(self, x):\n",
    "        for i, next_layer in enumerate(self.h):\n",
    "            x = next_layer(x)\n",
    "            if i < len(self.h) - 1:\n",
    "                x = F.softplus(x)\n",
    "        return self.sample(x)\n",
    "    \n",
    "    \n",
    "class Decoder(nn.Module):\n",
    "    def __init__(self, dims, dataset='mnist'):\n",
    "        super(Decoder, self).__init__()\n",
    "        [z_dim, h_dim, x_dim] = dims\n",
    "        neurons = [z_dim, *h_dim]\n",
    "        linear_layers = [nn.Linear(neurons[i-1], neurons[i]) for i in range(1, len(neurons))]\n",
    "        self.h = nn.ModuleList(modules=linear_layers)\n",
    "        self.output = nn.Linear(h_dim[-1], x_dim)\n",
    "        \n",
    "    def forward(self, x):\n",
    "        for i, next_layer in enumerate(self.h):\n",
    "            x=F.softplus(next_layer(x))\n",
    "        return F.sigmoid(self.output(x))\n",
    "    \n",
    "    \n",
    "class VAE(nn.Module):\n",
    "    def __init__(self, dims):\n",
    "        super(VAE, self).__init__()\n",
    "        [x_dim, h_dim, self.z_dim] = dims\n",
    "        self.encoder = Encoder([x_dim, h_dim, self.z_dim])\n",
    "        self.decoder = Decoder([self.z_dim, list(reversed(h_dim)), x_dim])\n",
    "        for module in self.modules():\n",
    "            if isinstance(module, nn.Linear):\n",
    "                init.xavier_normal(module.weight.data)\n",
    "                if module.bias is not None:\n",
    "                    module.bias.data.zero_()\n",
    "    \n",
    "    def forward(self, x):\n",
    "        z, mu, logvar = self.encoder(x)\n",
    "        x_reconstructed = self.decoder(z)\n",
    "        return x_reconstructed, (z, mu, logvar)\n",
    "    \n",
    "    def sample(self, z):\n",
    "        return self.decoder(z)"
   ]
  },
  {
   "cell_type": "code",
   "execution_count": 5,
   "metadata": {
    "collapsed": true
   },
   "outputs": [],
   "source": [
    "batch_size = 100"
   ]
  },
  {
   "cell_type": "code",
   "execution_count": 6,
   "metadata": {
    "collapsed": true
   },
   "outputs": [],
   "source": [
    "flatten_bernoulli = lambda img: transforms.ToTensor()(img).view(-1).bernoulli()\n",
    "mnist = datasets.MNIST('../data/', train=True, transform=flatten_bernoulli, download=True)\n",
    "mnist_val = datasets.MNIST('../data/', train=False, transform=flatten_bernoulli, download=True)\n",
    "\n",
    "unlabeled = torch.utils.data.DataLoader(mnist, batch_size=batch_size, shuffle=True, num_workers=2)\n",
    "validation = torch.utils.data.DataLoader(mnist_val, batch_size=batch_size, shuffle=True, num_workers=2)"
   ]
  },
  {
   "cell_type": "code",
   "execution_count": 7,
   "metadata": {
    "collapsed": true
   },
   "outputs": [],
   "source": [
    "vae = VAE([784, [200, 100], 20]).cuda()"
   ]
  },
  {
   "cell_type": "code",
   "execution_count": 8,
   "metadata": {
    "collapsed": true
   },
   "outputs": [],
   "source": [
    "reconstruction_fn = nn.BCELoss(size_average=False)\n",
    "def loss_function(x_reconstructed, x, mu, logvar):\n",
    "    reconstruction_error = reconstruction_fn(x_reconstructed, x)\n",
    "    KL_div = 0.5*(1. + logvar - mu**2 - torch.exp(logvar))\n",
    "    return reconstruction_error - torch.sum(KL_div)"
   ]
  },
  {
   "cell_type": "code",
   "execution_count": 9,
   "metadata": {
    "collapsed": true
   },
   "outputs": [],
   "source": [
    "opt = torch.optim.Adam(vae.parameters(), lr = 0.001)"
   ]
  },
  {
   "cell_type": "code",
   "execution_count": 10,
   "metadata": {
    "collapsed": true
   },
   "outputs": [],
   "source": [
    "n_epoch = 20"
   ]
  },
  {
   "cell_type": "code",
   "execution_count": 11,
   "metadata": {
    "scrolled": true
   },
   "outputs": [
    {
     "name": "stdout",
     "output_type": "stream",
     "text": [
      "Epoch: 1, loss: 13265.848\n",
      "Epoch: 2, loss: 11788.964\n",
      "Epoch: 3, loss: 12353.138\n",
      "Epoch: 4, loss: 11830.778\n",
      "Epoch: 5, loss: 11256.982\n",
      "Epoch: 6, loss: 10768.732\n",
      "Epoch: 7, loss: 10286.012\n",
      "Epoch: 8, loss: 10990.459\n",
      "Epoch: 9, loss: 10468.573\n",
      "Epoch: 10, loss: 10070.442\n",
      "Epoch: 11, loss: 10308.212\n",
      "Epoch: 12, loss: 10402.863\n",
      "Epoch: 13, loss: 9982.845\n",
      "Epoch: 14, loss: 10369.566\n",
      "Epoch: 15, loss: 10762.538\n",
      "Epoch: 16, loss: 10365.512\n",
      "Epoch: 17, loss: 10150.870\n",
      "Epoch: 18, loss: 9880.498\n",
      "Epoch: 19, loss: 10099.018\n",
      "Epoch: 20, loss: 9963.626\n"
     ]
    }
   ],
   "source": [
    "for epoch in range(n_epoch):\n",
    "    for i, [image, label] in enumerate(unlabeled):\n",
    "        opt.zero_grad()\n",
    "        x = Variable(image)\n",
    "        if cuda: x = x.cuda()\n",
    "        recon_x, (z, mu, logvar) = vae(x)\n",
    "        loss = loss_function(recon_x, x, mu, logvar)\n",
    "        loss.backward()\n",
    "        opt.step()\n",
    "    print(\"Epoch: {}, loss: {:.3f}\".format(epoch+1, loss.data[0]))"
   ]
  },
  {
   "cell_type": "code",
   "execution_count": 12,
   "metadata": {
    "collapsed": true
   },
   "outputs": [],
   "source": [
    "import matplotlib.pyplot as plt\n",
    "%matplotlib inline"
   ]
  },
  {
   "cell_type": "code",
   "execution_count": 13,
   "metadata": {},
   "outputs": [
    {
     "data": {
      "image/png": "[encoded data removed]",
      "text/plain": [
       "<matplotlib.figure.Figure at 0x7f0bec3d8908>"
      ]
     },
     "metadata": {},
     "output_type": "display_data"
    }
   ],
   "source": [
    "f, axarr = plt.subplots(1, 10, figsize=(10, 2))\n",
    "for i in range(10):\n",
    "    axarr[i].imshow(image[i].numpy().reshape(28, 28))\n",
    "    title = label[i]\n",
    "    axarr[i].set_title(title)\n",
    "    axarr[i].axis(\"off\")\n",
    "    \n",
    "f.suptitle(\"Data samples after Bernoulli sampling\")\n",
    "plt.show()"
   ]
  },
  {
   "cell_type": "code",
   "execution_count": 14,
   "metadata": {},
   "outputs": [
    {
     "name": "stdout",
     "output_type": "stream",
     "text": [
      "torch.Size([100, 784])\n"
     ]
    },
    {
     "data": {
      "image/png": "[encoded data removed]",
      "text/plain": [
       "<matplotlib.figure.Figure at 0x7f0bec3d8160>"
      ]
     },
     "metadata": {},
     "output_type": "display_data"
    }
   ],
   "source": [
    "f, axarr = plt.subplots(1, 10, figsize=(10, 2))\n",
    "out_img = torch.squeeze(recon_x.cpu().data)\n",
    "print(out_img.size())\n",
    "for i in range(10):\n",
    "    axarr[i].imshow(out_img[i].numpy().reshape(28,28))\n",
    "#     title = label[i]\n",
    "#     axarr[i].set_title(title)\n",
    "    axarr[i].axis(\"off\")\n",
    "plt.show()"
   ]
  },
  {
   "cell_type": "code",
   "execution_count": null,
   "metadata": {
    "collapsed": true
   },
   "outputs": [],
   "source": []
  }
 ],
 "metadata": {
  "kernelspec": {
   "display_name": "Python 3",
   "language": "python",
   "name": "python3"
  },
  "language_info": {
   "codemirror_mode": {
    "name": "ipython",
    "version": 3
   },
   "file_extension": ".py",
   "mimetype": "text/x-python",
   "name": "python",
   "nbconvert_exporter": "python",
   "pygments_lexer": "ipython3",
   "version": "3.6.3"
  }
 },
 "nbformat": 4,
 "nbformat_minor": 2
}
