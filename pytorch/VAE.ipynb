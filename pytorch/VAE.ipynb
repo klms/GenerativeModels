{
 "cells": [
  {
   "cell_type": "code",
   "execution_count": 1,
   "metadata": {},
   "outputs": [],
   "source": [
    "import argparse\n",
    "import matplotlib.pyplot as plt\n",
    "%matplotlib inline\n",
    "import numpy as np\n",
    "import os\n",
    "import random\n",
    "import sys\n",
    "sys.path.append('dependencies/')\n",
    "import loss\n",
    "from model import VAE\n",
    "from sampling import Gaussian_sample"
   ]
  },
  {
   "cell_type": "code",
   "execution_count": 2,
   "metadata": {
    "collapsed": true
   },
   "outputs": [],
   "source": [
    "import torch\n",
    "import torch.nn as nn\n",
    "import torch.nn.functional as F\n",
    "import torch.nn.init as init\n",
    "import torch.optim as optim\n",
    "from torch.autograd import Variable\n",
    "from torch.utils.data import DataLoader\n",
    "from torchvision import datasets, transforms"
   ]
  },
  {
   "cell_type": "code",
   "execution_count": 3,
   "metadata": {},
   "outputs": [],
   "source": [
    "plt.style.use(\"ggplot\")\n",
    "cuda = torch.cuda.is_available()"
   ]
  },
  {
   "cell_type": "code",
   "execution_count": 4,
   "metadata": {},
   "outputs": [],
   "source": [
    "flatten_bernoulli = lambda img: transforms.ToTensor()(img).view(-1).bernoulli()\n",
    "mnist = datasets.MNIST('data/', train=True, transform=flatten_bernoulli, download=True)\n",
    "mnist_val = datasets.MNIST('data/', train=False, transform=flatten_bernoulli, download=True)\n",
    "\n",
    "unlabelled = torch.utils.data.DataLoader(mnist, batch_size=100, shuffle=True, num_workers=2)\n",
    "validation = torch.utils.data.DataLoader(mnist_val, batch_size=100, shuffle=True, num_workers=2)"
   ]
  },
  {
   "cell_type": "code",
   "execution_count": 5,
   "metadata": {},
   "outputs": [],
   "source": [
    "model = VAE([28*28, [128], 32]).cuda()\n",
    "if cuda: model = model.cuda()"
   ]
  },
  {
   "cell_type": "code",
   "execution_count": 6,
   "metadata": {},
   "outputs": [],
   "source": [
    "objective = loss.VariationalInference(loss.binary_cross_entropy, loss.KL_divergence_normal)\n",
    "opt = torch.optim.Adam(model.parameters(), lr = 1e-5)"
   ]
  },
  {
   "cell_type": "code",
   "execution_count": 7,
   "metadata": {
    "scrolled": true
   },
   "outputs": [
    {
     "name": "stdout",
     "output_type": "stream",
     "text": [
      "Epoch: 0, loss:41982.887\n",
      "Epoch: 5, loss:22524.299\n",
      "Epoch: 10, loss:19817.111\n",
      "Epoch: 15, loss:17865.240\n",
      "Epoch: 20, loss:17177.883\n",
      "Epoch: 25, loss:15818.608\n",
      "Epoch: 30, loss:15780.653\n",
      "Epoch: 35, loss:16280.032\n",
      "Epoch: 40, loss:15474.046\n",
      "Epoch: 45, loss:14968.266\n",
      "Epoch: 50, loss:14359.342\n",
      "Epoch: 55, loss:14284.939\n",
      "Epoch: 60, loss:14115.750\n",
      "Epoch: 65, loss:14336.035\n",
      "Epoch: 70, loss:14086.359\n",
      "Epoch: 75, loss:14080.630\n",
      "Epoch: 80, loss:13676.011\n",
      "Epoch: 85, loss:13489.354\n",
      "Epoch: 90, loss:13154.350\n",
      "Epoch: 95, loss:13220.627\n",
      "Epoch: 100, loss:14185.450\n",
      "Epoch: 105, loss:13024.311\n",
      "Epoch: 110, loss:13450.775\n",
      "Epoch: 115, loss:12689.738\n",
      "Epoch: 120, loss:12915.957\n",
      "Epoch: 125, loss:12490.836\n",
      "Epoch: 130, loss:12846.779\n",
      "Epoch: 135, loss:12612.048\n",
      "Epoch: 140, loss:12419.067\n",
      "Epoch: 145, loss:11956.010\n",
      "Epoch: 150, loss:12674.398\n",
      "Epoch: 155, loss:12228.896\n",
      "Epoch: 160, loss:12288.304\n",
      "Epoch: 165, loss:12471.174\n",
      "Epoch: 170, loss:12400.033\n",
      "Epoch: 175, loss:12132.865\n",
      "Epoch: 180, loss:12003.592\n",
      "Epoch: 185, loss:12556.391\n",
      "Epoch: 190, loss:12331.464\n",
      "Epoch: 195, loss:12041.715\n"
     ]
    }
   ],
   "source": [
    "for epoch in range(200):\n",
    "    for unlabelled_image, _ in unlabelled:\n",
    "        u = Variable(unlabelled_image)\n",
    "        if cuda:\n",
    "            u = u.cuda()\n",
    "        reconstruction, (_, z_mu, z_logvar) = model(u)\n",
    "        loss = objective(reconstruction, u, z_mu, z_logvar)\n",
    "        loss.backward()\n",
    "        opt.step()\n",
    "        opt.zero_grad()\n",
    "        \n",
    "    if epoch%5 == 0:\n",
    "        print_loss = loss.data[0]\n",
    "        print(\"Epoch: {0:}, loss:{1:.3f}\".format(epoch, print_loss))"
   ]
  },
  {
   "cell_type": "code",
   "execution_count": 14,
   "metadata": {},
   "outputs": [
    {
     "name": "stdout",
     "output_type": "stream",
     "text": [
      "torch.Size([100, 784])\n"
     ]
    }
   ],
   "source": [
    "for unlabelled_image, _ in unlabelled:\n",
    "    print(unlabelled_image.size())\n",
    "    model.forward(Variable(unlabelled_image).cuda())\n",
    "    break"
   ]
  },
  {
   "cell_type": "code",
   "execution_count": null,
   "metadata": {
    "collapsed": true
   },
   "outputs": [],
   "source": []
  }
 ],
 "metadata": {
  "kernelspec": {
   "display_name": "Python 3",
   "language": "python",
   "name": "python3"
  },
  "language_info": {
   "codemirror_mode": {
    "name": "ipython",
    "version": 3
   },
   "file_extension": ".py",
   "mimetype": "text/x-python",
   "name": "python",
   "nbconvert_exporter": "python",
   "pygments_lexer": "ipython3",
   "version": "3.6.3"
  }
 },
 "nbformat": 4,
 "nbformat_minor": 2
}
